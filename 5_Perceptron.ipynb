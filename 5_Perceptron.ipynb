{
 "cells": [
  {
   "cell_type": "code",
   "execution_count": 1,
   "metadata": {},
   "outputs": [],
   "source": [
    "import sklearn.datasets\n",
    "import pandas as pd\n",
    "from sklearn.model_selection import train_test_split\n",
    "import numpy as np\n",
    "from sklearn.metrics import accuracy_score\n",
    "\n",
    "\n",
    "dataset = sklearn.datasets.load_breast_cancer()\n",
    "# print(dataset)\n",
    "X = dataset.data\n",
    "Y = dataset.target\n",
    "X_header = dataset.feature_names\n",
    "Y_header = dataset.target_names\n",
    "\n",
    "df = pd.DataFrame(X, columns=X_header)\n",
    "df['class'] = Y\n",
    "\n",
    "df_y = df['class']\n",
    "df_x = df.drop(columns=['class'])\n",
    "\n",
    "X_train, X_test, Y_train, Y_test = train_test_split(df_x, df_y, test_size=0.1, stratify = df_y, random_state =1)\n"
   ]
  },
  {
   "cell_type": "code",
   "execution_count": 2,
   "metadata": {},
   "outputs": [],
   "source": [
    "# Initial Version\n",
    "class Perceptron:\n",
    "    def __init__ (self):\n",
    "        self.w = None\n",
    "        self.b = None\n",
    "        \n",
    "    def model(self,x):\n",
    "        return 1 if (np.dot(x,self.w) >= self.b) else 0\n",
    "    \n",
    "    def predict(self,X):\n",
    "        Y=[]\n",
    "        for x in X:\n",
    "            Y.append(self.model(x))\n",
    "        return Y\n",
    "    \n",
    "    def fit(self, X, Y):\n",
    "        self.w = np.ones(X.shape[1])\n",
    "        self.b = 0\n",
    "        for x,y in zip(X,Y):\n",
    "            y_pred = self.model(x)\n",
    "            if y_pred == 0 and y == 1:\n",
    "                self.w = self.w + x\n",
    "                self.b = self.b + 1\n",
    "            if y_pred == 1 and y == 0:\n",
    "                self.w = self.w - x\n",
    "                self.b = self.b - 1\n",
    "        "
   ]
  },
  {
   "cell_type": "code",
   "execution_count": 3,
   "metadata": {},
   "outputs": [
    {
     "data": {
      "text/plain": [
       "57"
      ]
     },
     "execution_count": 3,
     "metadata": {},
     "output_type": "execute_result"
    }
   ],
   "source": [
    "perceptron = Perceptron()\n",
    "perceptron.fit(X_train.values, Y_train.values)\n",
    "perceptron.b"
   ]
  },
  {
   "cell_type": "code",
   "execution_count": 4,
   "metadata": {},
   "outputs": [
    {
     "name": "stdout",
     "output_type": "stream",
     "text": [
      "0.3684210526315789\n"
     ]
    }
   ],
   "source": [
    "y_pred = perceptron.predict(X_test.values)\n",
    "print(accuracy_score(y_pred, Y_test.values))\n"
   ]
  },
  {
   "cell_type": "code",
   "execution_count": 5,
   "metadata": {},
   "outputs": [
    {
     "data": {
      "text/plain": [
       "<Figure size 640x480 with 1 Axes>"
      ]
     },
     "metadata": {},
     "output_type": "display_data"
    }
   ],
   "source": [
    "from matplotlib import pyplot as plt\n",
    "\n",
    "plt.plot(perceptron.w)\n",
    "plt.show()"
   ]
  },
  {
   "cell_type": "code",
   "execution_count": 6,
   "metadata": {},
   "outputs": [],
   "source": [
    "# Self Improvised Version\n",
    "\n",
    "class Perceptron:\n",
    "    def __init__ (self):\n",
    "        self.w = np.ones(X.shape[1])\n",
    "        self.b = 0\n",
    "        self.flag = 0\n",
    "        \n",
    "    def model(self,x):\n",
    "        return 1 if (np.dot(self.w, x) >= self.b) else 0\n",
    "    \n",
    "    def predict(self,X):\n",
    "        Y=[]\n",
    "        for x in X:\n",
    "            Y.append(self.model(x))\n",
    "        return np.array(Y)\n",
    "  \n",
    "    def fitlocal(self, X, Y):\n",
    "        for x,y in zip(X,Y):\n",
    "            y_pred = self.model(x)\n",
    "            if y == 1 and y_pred == 0:\n",
    "                self.w = self.w + x\n",
    "                self.b = self.b + 1\n",
    "                self.flag = 1\n",
    "            if y == 0 and y_pred == 1:\n",
    "                self.w = self.w - x\n",
    "                self.b = self.b - 1\n",
    "                self.flag = 1\n",
    "                \n",
    "    def fit(self, X, Y):\n",
    "        self.fitlocal(X,Y)\n",
    "        if self.flag == 1:\n",
    "            self.flag = 0\n",
    "            self.fitlocal(X,Y)"
   ]
  },
  {
   "cell_type": "code",
   "execution_count": 7,
   "metadata": {},
   "outputs": [
    {
     "name": "stdout",
     "output_type": "stream",
     "text": [
      "0.9473684210526315\n"
     ]
    }
   ],
   "source": [
    "perceptron = Perceptron()\n",
    "perceptron.fit(X_train.values, Y_train.values)\n",
    "y_pred = perceptron.predict(X_test.values)\n",
    "print(accuracy_score(y_pred, Y_test.values))"
   ]
  },
  {
   "cell_type": "code",
   "execution_count": 8,
   "metadata": {},
   "outputs": [
    {
     "name": "stdout",
     "output_type": "stream",
     "text": [
      "93\n"
     ]
    }
   ],
   "source": [
    "print(perceptron.b)"
   ]
  },
  {
   "cell_type": "code",
   "execution_count": 9,
   "metadata": {},
   "outputs": [],
   "source": [
    "# Epochs Version\n",
    "class Perceptron:\n",
    "    def __init__ (self):\n",
    "        self.w = None\n",
    "        self.b = None\n",
    "        \n",
    "    def model(self,x):\n",
    "        return 1 if (np.dot(x,self.w) >= self.b) else 0\n",
    "    \n",
    "    def predict(self,X):\n",
    "        Y=[]\n",
    "        for x in X:\n",
    "            Y.append(self.model(x))\n",
    "        return Y\n",
    "    \n",
    "    def fit(self, X, Y, epochs = 1):\n",
    "        self.w = np.ones(X.shape[1])\n",
    "        self.b = 0\n",
    "        for i in range(epochs):\n",
    "            for x,y in zip(X,Y):\n",
    "                y_pred = self.model(x)\n",
    "                if y_pred == 0 and y == 1:\n",
    "                    self.w = self.w + x\n",
    "                    self.b = self.b + 1\n",
    "                if y_pred == 1 and y == 0:\n",
    "                    self.w = self.w - x\n",
    "                    self.b = self.b - 1\n",
    "        "
   ]
  },
  {
   "cell_type": "code",
   "execution_count": 10,
   "metadata": {},
   "outputs": [
    {
     "name": "stdout",
     "output_type": "stream",
     "text": [
      "0.9473684210526315\n"
     ]
    }
   ],
   "source": [
    "perceptron = Perceptron()\n",
    "perceptron.fit(X_train.values, Y_train.values, 2)\n",
    "y_pred = perceptron.predict(X_test.values)\n",
    "print(accuracy_score(y_pred, Y_test.values))"
   ]
  }
 ],
 "metadata": {
  "kernelspec": {
   "display_name": "Python 3",
   "language": "python",
   "name": "python3"
  },
  "language_info": {
   "codemirror_mode": {
    "name": "ipython",
    "version": 3
   },
   "file_extension": ".py",
   "mimetype": "text/x-python",
   "name": "python",
   "nbconvert_exporter": "python",
   "pygments_lexer": "ipython3",
   "version": "3.6.8"
  }
 },
 "nbformat": 4,
 "nbformat_minor": 2
}
